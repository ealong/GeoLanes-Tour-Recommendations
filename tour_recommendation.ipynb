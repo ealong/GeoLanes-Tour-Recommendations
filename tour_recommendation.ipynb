{
 "cells": [
  {
   "cell_type": "code",
   "execution_count": 1,
   "metadata": {},
   "outputs": [],
   "source": [
    "import turicreate as tc"
   ]
  },
  {
   "cell_type": "code",
   "execution_count": 2,
   "metadata": {},
   "outputs": [],
   "source": [
    "# Load data \n",
    "user_tour_data = tc.SFrame.read_csv('./dataset/user_tour_data.csv', verbose=False)\n",
    "user_data = tc.SFrame.read_csv('./dataset/user_data.csv', verbose=False)\n",
    "tour_data = tc.SFrame.read_csv('./dataset/tour_data.csv', verbose=False)"
   ]
  },
  {
   "cell_type": "code",
   "execution_count": 3,
   "metadata": {},
   "outputs": [
    {
     "name": "stdout",
     "output_type": "stream",
     "text": [
      "+--------+--------+\n",
      "| userId | tourId |\n",
      "+--------+--------+\n",
      "|   1    |   1    |\n",
      "|   2    |   3    |\n",
      "|   3    |   1    |\n",
      "|   3    |   2    |\n",
      "|   1    |   3    |\n",
      "|   4    |   2    |\n",
      "|   4    |   4    |\n",
      "|   5    |   2    |\n",
      "|   6    |   3    |\n",
      "|   7    |   3    |\n",
      "|   6    |   2    |\n",
      "+--------+--------+\n",
      "[11 rows x 2 columns]\n",
      "\n"
     ]
    }
   ],
   "source": [
    "user_tour_data.print_rows(user_tour_data.shape[0]) #What users went on what tours"
   ]
  },
  {
   "cell_type": "code",
   "execution_count": 4,
   "metadata": {
    "scrolled": true
   },
   "outputs": [
    {
     "name": "stdout",
     "output_type": "stream",
     "text": [
      "+--------+-----+--------+\n",
      "| userId | age | gender |\n",
      "+--------+-----+--------+\n",
      "|   1    |  21 |   M    |\n",
      "|   2    |  80 |   M    |\n",
      "|   3    |  35 |   F    |\n",
      "|   4    |  35 |   M    |\n",
      "|   5    |  22 |   F    |\n",
      "|   6    |  60 |   F    |\n",
      "|   7    |  70 |   M    |\n",
      "+--------+-----+--------+\n",
      "[7 rows x 3 columns]\n",
      "\n"
     ]
    }
   ],
   "source": [
    "user_data.print_rows(user_data.shape[0]) #Info about the users"
   ]
  },
  {
   "cell_type": "code",
   "execution_count": 5,
   "metadata": {},
   "outputs": [
    {
     "name": "stdout",
     "output_type": "stream",
     "text": [
      "+--------+------------+------------+\n",
      "| tourId | lengthDist | lengthTime |\n",
      "+--------+------------+------------+\n",
      "|   1    |     5      |     20     |\n",
      "|   2    |     15     |     45     |\n",
      "|   3    |     10     |     60     |\n",
      "|   4    |     25     |     90     |\n",
      "+--------+------------+------------+\n",
      "[4 rows x 3 columns]\n",
      "\n"
     ]
    }
   ],
   "source": [
    "tour_data.print_rows(tour_data.shape[0]) #Info about the tours"
   ]
  },
  {
   "cell_type": "code",
   "execution_count": 6,
   "metadata": {},
   "outputs": [],
   "source": [
    "# Train-test split\n",
    "training_data, validation_data = tc.recommender.util.random_split_by_user(user_tour_data, 'userId', 'tourId')"
   ]
  },
  {
   "cell_type": "code",
   "execution_count": 7,
   "metadata": {},
   "outputs": [
    {
     "data": {
      "text/html": [
       "<pre>Preparing data set.</pre>"
      ],
      "text/plain": [
       "Preparing data set."
      ]
     },
     "metadata": {},
     "output_type": "display_data"
    },
    {
     "data": {
      "text/html": [
       "<pre>    Data has 9 observations with 7 users and 4 items.</pre>"
      ],
      "text/plain": [
       "    Data has 9 observations with 7 users and 4 items."
      ]
     },
     "metadata": {},
     "output_type": "display_data"
    },
    {
     "data": {
      "text/html": [
       "<pre>    Data prepared in: 0.012366s</pre>"
      ],
      "text/plain": [
       "    Data prepared in: 0.012366s"
      ]
     },
     "metadata": {},
     "output_type": "display_data"
    },
    {
     "data": {
      "text/html": [
       "<pre>Training ranking_factorization_recommender for recommendations.</pre>"
      ],
      "text/plain": [
       "Training ranking_factorization_recommender for recommendations."
      ]
     },
     "metadata": {},
     "output_type": "display_data"
    },
    {
     "data": {
      "text/html": [
       "<pre>+--------------------------------+--------------------------------------------------+----------+</pre>"
      ],
      "text/plain": [
       "+--------------------------------+--------------------------------------------------+----------+"
      ]
     },
     "metadata": {},
     "output_type": "display_data"
    },
    {
     "data": {
      "text/html": [
       "<pre>| Parameter                      | Description                                      | Value    |</pre>"
      ],
      "text/plain": [
       "| Parameter                      | Description                                      | Value    |"
      ]
     },
     "metadata": {},
     "output_type": "display_data"
    },
    {
     "data": {
      "text/html": [
       "<pre>+--------------------------------+--------------------------------------------------+----------+</pre>"
      ],
      "text/plain": [
       "+--------------------------------+--------------------------------------------------+----------+"
      ]
     },
     "metadata": {},
     "output_type": "display_data"
    },
    {
     "data": {
      "text/html": [
       "<pre>| num_factors                    | Factor Dimension                                 | 32       |</pre>"
      ],
      "text/plain": [
       "| num_factors                    | Factor Dimension                                 | 32       |"
      ]
     },
     "metadata": {},
     "output_type": "display_data"
    },
    {
     "data": {
      "text/html": [
       "<pre>| regularization                 | L2 Regularization on Factors                     | 1e-09    |</pre>"
      ],
      "text/plain": [
       "| regularization                 | L2 Regularization on Factors                     | 1e-09    |"
      ]
     },
     "metadata": {},
     "output_type": "display_data"
    },
    {
     "data": {
      "text/html": [
       "<pre>| solver                         | Solver used for training                         | adagrad  |</pre>"
      ],
      "text/plain": [
       "| solver                         | Solver used for training                         | adagrad  |"
      ]
     },
     "metadata": {},
     "output_type": "display_data"
    },
    {
     "data": {
      "text/html": [
       "<pre>| linear_regularization          | L2 Regularization on Linear Coefficients         | 1e-09    |</pre>"
      ],
      "text/plain": [
       "| linear_regularization          | L2 Regularization on Linear Coefficients         | 1e-09    |"
      ]
     },
     "metadata": {},
     "output_type": "display_data"
    },
    {
     "data": {
      "text/html": [
       "<pre>| binary_target                  | Assume Binary Targets                            | True     |</pre>"
      ],
      "text/plain": [
       "| binary_target                  | Assume Binary Targets                            | True     |"
      ]
     },
     "metadata": {},
     "output_type": "display_data"
    },
    {
     "data": {
      "text/html": [
       "<pre>| side_data_factorization        | Assign Factors for Side Data                     | True     |</pre>"
      ],
      "text/plain": [
       "| side_data_factorization        | Assign Factors for Side Data                     | True     |"
      ]
     },
     "metadata": {},
     "output_type": "display_data"
    },
    {
     "data": {
      "text/html": [
       "<pre>| max_iterations                 | Maximum Number of Iterations                     | 25       |</pre>"
      ],
      "text/plain": [
       "| max_iterations                 | Maximum Number of Iterations                     | 25       |"
      ]
     },
     "metadata": {},
     "output_type": "display_data"
    },
    {
     "data": {
      "text/html": [
       "<pre>+--------------------------------+--------------------------------------------------+----------+</pre>"
      ],
      "text/plain": [
       "+--------------------------------+--------------------------------------------------+----------+"
      ]
     },
     "metadata": {},
     "output_type": "display_data"
    },
    {
     "data": {
      "text/html": [
       "<pre>  Optimizing model using SGD; tuning step size.</pre>"
      ],
      "text/plain": [
       "  Optimizing model using SGD; tuning step size."
      ]
     },
     "metadata": {},
     "output_type": "display_data"
    },
    {
     "data": {
      "text/html": [
       "<pre>  Using 9 / 9 points for tuning the step size.</pre>"
      ],
      "text/plain": [
       "  Using 9 / 9 points for tuning the step size."
      ]
     },
     "metadata": {},
     "output_type": "display_data"
    },
    {
     "data": {
      "text/html": [
       "<pre>+---------+-------------------+------------------------------------------+</pre>"
      ],
      "text/plain": [
       "+---------+-------------------+------------------------------------------+"
      ]
     },
     "metadata": {},
     "output_type": "display_data"
    },
    {
     "data": {
      "text/html": [
       "<pre>| Attempt | Initial Step Size | Estimated Objective Value                |</pre>"
      ],
      "text/plain": [
       "| Attempt | Initial Step Size | Estimated Objective Value                |"
      ]
     },
     "metadata": {},
     "output_type": "display_data"
    },
    {
     "data": {
      "text/html": [
       "<pre>+---------+-------------------+------------------------------------------+</pre>"
      ],
      "text/plain": [
       "+---------+-------------------+------------------------------------------+"
      ]
     },
     "metadata": {},
     "output_type": "display_data"
    },
    {
     "data": {
      "text/html": [
       "<pre>| 0       | 8.33333           | Not Viable                               |</pre>"
      ],
      "text/plain": [
       "| 0       | 8.33333           | Not Viable                               |"
      ]
     },
     "metadata": {},
     "output_type": "display_data"
    },
    {
     "data": {
      "text/html": [
       "<pre>| 1       | 2.08333           | Not Viable                               |</pre>"
      ],
      "text/plain": [
       "| 1       | 2.08333           | Not Viable                               |"
      ]
     },
     "metadata": {},
     "output_type": "display_data"
    },
    {
     "data": {
      "text/html": [
       "<pre>| 2       | 0.520833          | Not Viable                               |</pre>"
      ],
      "text/plain": [
       "| 2       | 0.520833          | Not Viable                               |"
      ]
     },
     "metadata": {},
     "output_type": "display_data"
    },
    {
     "data": {
      "text/html": [
       "<pre>| 3       | 0.130208          | 0.258998                                 |</pre>"
      ],
      "text/plain": [
       "| 3       | 0.130208          | 0.258998                                 |"
      ]
     },
     "metadata": {},
     "output_type": "display_data"
    },
    {
     "data": {
      "text/html": [
       "<pre>| 4       | 0.0651042         | 0.445034                                 |</pre>"
      ],
      "text/plain": [
       "| 4       | 0.0651042         | 0.445034                                 |"
      ]
     },
     "metadata": {},
     "output_type": "display_data"
    },
    {
     "data": {
      "text/html": [
       "<pre>| 5       | 0.0325521         | 1.13037                                  |</pre>"
      ],
      "text/plain": [
       "| 5       | 0.0325521         | 1.13037                                  |"
      ]
     },
     "metadata": {},
     "output_type": "display_data"
    },
    {
     "data": {
      "text/html": [
       "<pre>+---------+-------------------+------------------------------------------+</pre>"
      ],
      "text/plain": [
       "+---------+-------------------+------------------------------------------+"
      ]
     },
     "metadata": {},
     "output_type": "display_data"
    },
    {
     "data": {
      "text/html": [
       "<pre>| Final   | 0.130208          | 0.258998                                 |</pre>"
      ],
      "text/plain": [
       "| Final   | 0.130208          | 0.258998                                 |"
      ]
     },
     "metadata": {},
     "output_type": "display_data"
    },
    {
     "data": {
      "text/html": [
       "<pre>+---------+-------------------+------------------------------------------+</pre>"
      ],
      "text/plain": [
       "+---------+-------------------+------------------------------------------+"
      ]
     },
     "metadata": {},
     "output_type": "display_data"
    },
    {
     "data": {
      "text/html": [
       "<pre>Starting Optimization.</pre>"
      ],
      "text/plain": [
       "Starting Optimization."
      ]
     },
     "metadata": {},
     "output_type": "display_data"
    },
    {
     "data": {
      "text/html": [
       "<pre>+---------+--------------+-------------------+-----------------------------------+-------------+</pre>"
      ],
      "text/plain": [
       "+---------+--------------+-------------------+-----------------------------------+-------------+"
      ]
     },
     "metadata": {},
     "output_type": "display_data"
    },
    {
     "data": {
      "text/html": [
       "<pre>| Iter.   | Elapsed Time | Approx. Objective | Approx. Training Predictive Error | Step Size   |</pre>"
      ],
      "text/plain": [
       "| Iter.   | Elapsed Time | Approx. Objective | Approx. Training Predictive Error | Step Size   |"
      ]
     },
     "metadata": {},
     "output_type": "display_data"
    },
    {
     "data": {
      "text/html": [
       "<pre>+---------+--------------+-------------------+-----------------------------------+-------------+</pre>"
      ],
      "text/plain": [
       "+---------+--------------+-------------------+-----------------------------------+-------------+"
      ]
     },
     "metadata": {},
     "output_type": "display_data"
    },
    {
     "data": {
      "text/html": [
       "<pre>| Initial | 117us        | 1.38637           | 0.693303                          |             |</pre>"
      ],
      "text/plain": [
       "| Initial | 117us        | 1.38637           | 0.693303                          |             |"
      ]
     },
     "metadata": {},
     "output_type": "display_data"
    },
    {
     "data": {
      "text/html": [
       "<pre>+---------+--------------+-------------------+-----------------------------------+-------------+</pre>"
      ],
      "text/plain": [
       "+---------+--------------+-------------------+-----------------------------------+-------------+"
      ]
     },
     "metadata": {},
     "output_type": "display_data"
    },
    {
     "data": {
      "text/html": [
       "<pre>| 1       | 1.487ms      | DIVERGED          | DIVERGED                          | 0.130208    |</pre>"
      ],
      "text/plain": [
       "| 1       | 1.487ms      | DIVERGED          | DIVERGED                          | 0.130208    |"
      ]
     },
     "metadata": {},
     "output_type": "display_data"
    },
    {
     "data": {
      "text/html": [
       "<pre>| RESET   | 2.016ms      | 1.38641           | 0.693253                          |             |</pre>"
      ],
      "text/plain": [
       "| RESET   | 2.016ms      | 1.38641           | 0.693253                          |             |"
      ]
     },
     "metadata": {},
     "output_type": "display_data"
    }
   ],
   "source": [
    "#Create model\n",
    "\n",
    "model = tc.recommender.ranking_factorization_recommender.create(training_data, 'userId', 'tourId',\n",
    "                                                                          user_data=user_data,\n",
    "                                                                          item_data=tour_data)\n",
    "#Model choice: Ranking Factorization Recommender\n",
    "#Reasons: Implicit data, lack of ratings, additional relevant user & tour data\n",
    "#More info here: https://turi.com/learn/userguide/recommender/choosing-a-model.html"
   ]
  },
  {
   "cell_type": "code",
   "execution_count": 10,
   "metadata": {},
   "outputs": [
    {
     "name": "stdout",
     "output_type": "stream",
     "text": [
      "+--------+--------+-----------------------+------+\n",
      "| userId | tourId |         score         | rank |\n",
      "+--------+--------+-----------------------+------+\n",
      "|   1    |   4    |  0.03433328687311106  |  1   |\n",
      "|   1    |   2    |  0.011053869673404045 |  2   |\n",
      "|   2    |   2    |  0.12445551588192133  |  1   |\n",
      "|   2    |   1    |  0.11582134601180201  |  2   |\n",
      "|   2    |   4    |  0.03454589552404447  |  3   |\n",
      "|   3    |   3    |  0.02165207903766628  |  1   |\n",
      "|   3    |   4    |  0.009644967743661238 |  2   |\n",
      "|   4    |   3    |  0.08161424981289148  |  1   |\n",
      "|   4    |   1    |  0.08126687394137724  |  2   |\n",
      "|   4    |   4    | 0.0055765395746838675 |  3   |\n",
      "|   5    |   3    |  0.07347743598060547  |  1   |\n",
      "|   5    |   1    |   0.0658364620312423  |  2   |\n",
      "|   5    |   4    | 0.0074409134382697915 |  3   |\n",
      "|   6    |   1    |  0.059294657650934335 |  1   |\n",
      "|   6    |   4    |  0.03672864879546999  |  2   |\n",
      "|   7    |   3    |   0.8137699543872561  |  1   |\n",
      "|   7    |   2    |   0.5911615486295548  |  2   |\n",
      "|   7    |   1    |  0.19649500001565923  |  3   |\n",
      "|   7    |   4    |  0.019105895265233073 |  4   |\n",
      "+--------+--------+-----------------------+------+\n",
      "[19 rows x 4 columns]\n",
      "\n"
     ]
    }
   ],
   "source": [
    "#Print results\n",
    "results = model.recommend()\n",
    "results.print_rows(results.shape[0])\n",
    "#All the tours a given user has NOT been on are ranked according to which ones the user is most likely to favor"
   ]
  },
  {
   "cell_type": "markdown",
   "metadata": {},
   "source": [
    "### <i>(Analysis / validation of model pending.)</i>"
   ]
  },
  {
   "cell_type": "code",
   "execution_count": null,
   "metadata": {},
   "outputs": [],
   "source": []
  }
 ],
 "metadata": {
  "kernelspec": {
   "display_name": "Python 3",
   "language": "python",
   "name": "python3"
  },
  "language_info": {
   "codemirror_mode": {
    "name": "ipython",
    "version": 3
   },
   "file_extension": ".py",
   "mimetype": "text/x-python",
   "name": "python",
   "nbconvert_exporter": "python",
   "pygments_lexer": "ipython3",
   "version": "3.7.4"
  }
 },
 "nbformat": 4,
 "nbformat_minor": 2
}

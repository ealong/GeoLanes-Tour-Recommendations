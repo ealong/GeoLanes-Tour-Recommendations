{
 "cells": [
  {
   "cell_type": "code",
   "execution_count": 1,
   "metadata": {},
   "outputs": [],
   "source": [
    "import turicreate as tc"
   ]
  },
  {
   "cell_type": "code",
   "execution_count": 2,
   "metadata": {},
   "outputs": [],
   "source": [
    "# Load data \n",
    "user_tour_data = tc.SFrame.read_csv('./dataset/user_tour_data.csv', verbose=False)\n",
    "user_data = tc.SFrame.read_csv('./dataset/user_data.csv', verbose=False)\n",
    "tour_data = tc.SFrame.read_csv('./dataset/tour_data.csv', verbose=False)"
   ]
  },
  {
   "cell_type": "code",
   "execution_count": 3,
   "metadata": {},
   "outputs": [
    {
     "name": "stdout",
     "output_type": "stream",
     "text": [
      "+--------+--------+--------+\n",
      "| userId | tourId | rating |\n",
      "+--------+--------+--------+\n",
      "|   1    |   1    |   5    |\n",
      "|   2    |   3    |   4    |\n",
      "|   3    |   1    |   2    |\n",
      "|   3    |   2    |   3    |\n",
      "|   1    |   3    |   4    |\n",
      "|   4    |   2    |   2    |\n",
      "|   4    |   4    |   3    |\n",
      "|   5    |   2    |   5    |\n",
      "|   6    |   3    |   3    |\n",
      "|   7    |   3    |   4    |\n",
      "|   6    |   2    |   4    |\n",
      "+--------+--------+--------+\n",
      "[11 rows x 3 columns]\n",
      "\n"
     ]
    }
   ],
   "source": [
    "user_tour_data.print_rows(user_tour_data.shape[0]) # What users went on which tours"
   ]
  },
  {
   "cell_type": "code",
   "execution_count": 4,
   "metadata": {
    "scrolled": true
   },
   "outputs": [
    {
     "name": "stdout",
     "output_type": "stream",
     "text": [
      "+--------+-----+--------+\n",
      "| userId | age | gender |\n",
      "+--------+-----+--------+\n",
      "|   1    |  21 |   M    |\n",
      "|   2    |  80 |   M    |\n",
      "|   3    |  35 |   F    |\n",
      "|   4    |  35 |   M    |\n",
      "|   5    |  22 |   F    |\n",
      "|   6    |  60 |   F    |\n",
      "|   7    |  70 |   M    |\n",
      "+--------+-----+--------+\n",
      "[7 rows x 3 columns]\n",
      "\n"
     ]
    }
   ],
   "source": [
    "user_data.print_rows(user_data.shape[0]) # Info about the users"
   ]
  },
  {
   "cell_type": "code",
   "execution_count": 5,
   "metadata": {},
   "outputs": [
    {
     "name": "stdout",
     "output_type": "stream",
     "text": [
      "+--------+------------+------------+----------+\n",
      "| tourId | lengthDist | lengthTime |  genre   |\n",
      "+--------+------------+------------+----------+\n",
      "|   1    |     5      |     20     | religion |\n",
      "|   2    |     15     |     45     |  nature  |\n",
      "|   3    |     10     |     60     | religion |\n",
      "|   4    |     25     |     90     |  sports  |\n",
      "+--------+------------+------------+----------+\n",
      "[4 rows x 4 columns]\n",
      "\n"
     ]
    }
   ],
   "source": [
    "tour_data.print_rows(tour_data.shape[0]) # Info about the tours"
   ]
  },
  {
   "cell_type": "code",
   "execution_count": 6,
   "metadata": {},
   "outputs": [],
   "source": [
    "# Train-test split\n",
    "training_data, validation_data = tc.recommender.util.random_split_by_user(user_tour_data, 'userId', 'tourId')"
   ]
  },
  {
   "cell_type": "code",
   "execution_count": 7,
   "metadata": {},
   "outputs": [
    {
     "data": {
      "text/html": [
       "<pre>Preparing data set.</pre>"
      ],
      "text/plain": [
       "Preparing data set."
      ]
     },
     "metadata": {},
     "output_type": "display_data"
    },
    {
     "data": {
      "text/html": [
       "<pre>    Data has 9 observations with 7 users and 4 items.</pre>"
      ],
      "text/plain": [
       "    Data has 9 observations with 7 users and 4 items."
      ]
     },
     "metadata": {},
     "output_type": "display_data"
    },
    {
     "data": {
      "text/html": [
       "<pre>    Data prepared in: 0.0144s</pre>"
      ],
      "text/plain": [
       "    Data prepared in: 0.0144s"
      ]
     },
     "metadata": {},
     "output_type": "display_data"
    },
    {
     "data": {
      "text/html": [
       "<pre>Training ranking_factorization_recommender for recommendations.</pre>"
      ],
      "text/plain": [
       "Training ranking_factorization_recommender for recommendations."
      ]
     },
     "metadata": {},
     "output_type": "display_data"
    },
    {
     "data": {
      "text/html": [
       "<pre>+--------------------------------+--------------------------------------------------+----------+</pre>"
      ],
      "text/plain": [
       "+--------------------------------+--------------------------------------------------+----------+"
      ]
     },
     "metadata": {},
     "output_type": "display_data"
    },
    {
     "data": {
      "text/html": [
       "<pre>| Parameter                      | Description                                      | Value    |</pre>"
      ],
      "text/plain": [
       "| Parameter                      | Description                                      | Value    |"
      ]
     },
     "metadata": {},
     "output_type": "display_data"
    },
    {
     "data": {
      "text/html": [
       "<pre>+--------------------------------+--------------------------------------------------+----------+</pre>"
      ],
      "text/plain": [
       "+--------------------------------+--------------------------------------------------+----------+"
      ]
     },
     "metadata": {},
     "output_type": "display_data"
    },
    {
     "data": {
      "text/html": [
       "<pre>| num_factors                    | Factor Dimension                                 | 32       |</pre>"
      ],
      "text/plain": [
       "| num_factors                    | Factor Dimension                                 | 32       |"
      ]
     },
     "metadata": {},
     "output_type": "display_data"
    },
    {
     "data": {
      "text/html": [
       "<pre>| regularization                 | L2 Regularization on Factors                     | 1e-09    |</pre>"
      ],
      "text/plain": [
       "| regularization                 | L2 Regularization on Factors                     | 1e-09    |"
      ]
     },
     "metadata": {},
     "output_type": "display_data"
    },
    {
     "data": {
      "text/html": [
       "<pre>| solver                         | Solver used for training                         | adagrad  |</pre>"
      ],
      "text/plain": [
       "| solver                         | Solver used for training                         | adagrad  |"
      ]
     },
     "metadata": {},
     "output_type": "display_data"
    },
    {
     "data": {
      "text/html": [
       "<pre>| linear_regularization          | L2 Regularization on Linear Coefficients         | 1e-09    |</pre>"
      ],
      "text/plain": [
       "| linear_regularization          | L2 Regularization on Linear Coefficients         | 1e-09    |"
      ]
     },
     "metadata": {},
     "output_type": "display_data"
    },
    {
     "data": {
      "text/html": [
       "<pre>| ranking_regularization         | Rank-based Regularization Weight                 | 0.25     |</pre>"
      ],
      "text/plain": [
       "| ranking_regularization         | Rank-based Regularization Weight                 | 0.25     |"
      ]
     },
     "metadata": {},
     "output_type": "display_data"
    },
    {
     "data": {
      "text/html": [
       "<pre>| side_data_factorization        | Assign Factors for Side Data                     | True     |</pre>"
      ],
      "text/plain": [
       "| side_data_factorization        | Assign Factors for Side Data                     | True     |"
      ]
     },
     "metadata": {},
     "output_type": "display_data"
    },
    {
     "data": {
      "text/html": [
       "<pre>| max_iterations                 | Maximum Number of Iterations                     | 25       |</pre>"
      ],
      "text/plain": [
       "| max_iterations                 | Maximum Number of Iterations                     | 25       |"
      ]
     },
     "metadata": {},
     "output_type": "display_data"
    },
    {
     "data": {
      "text/html": [
       "<pre>+--------------------------------+--------------------------------------------------+----------+</pre>"
      ],
      "text/plain": [
       "+--------------------------------+--------------------------------------------------+----------+"
      ]
     },
     "metadata": {},
     "output_type": "display_data"
    },
    {
     "data": {
      "text/html": [
       "<pre>  Optimizing model using SGD; tuning step size.</pre>"
      ],
      "text/plain": [
       "  Optimizing model using SGD; tuning step size."
      ]
     },
     "metadata": {},
     "output_type": "display_data"
    },
    {
     "data": {
      "text/html": [
       "<pre>  Using 9 / 9 points for tuning the step size.</pre>"
      ],
      "text/plain": [
       "  Using 9 / 9 points for tuning the step size."
      ]
     },
     "metadata": {},
     "output_type": "display_data"
    },
    {
     "data": {
      "text/html": [
       "<pre>+---------+-------------------+------------------------------------------+</pre>"
      ],
      "text/plain": [
       "+---------+-------------------+------------------------------------------+"
      ]
     },
     "metadata": {},
     "output_type": "display_data"
    },
    {
     "data": {
      "text/html": [
       "<pre>| Attempt | Initial Step Size | Estimated Objective Value                |</pre>"
      ],
      "text/plain": [
       "| Attempt | Initial Step Size | Estimated Objective Value                |"
      ]
     },
     "metadata": {},
     "output_type": "display_data"
    },
    {
     "data": {
      "text/html": [
       "<pre>+---------+-------------------+------------------------------------------+</pre>"
      ],
      "text/plain": [
       "+---------+-------------------+------------------------------------------+"
      ]
     },
     "metadata": {},
     "output_type": "display_data"
    },
    {
     "data": {
      "text/html": [
       "<pre>| 0       | 7.14286           | Not Viable                               |</pre>"
      ],
      "text/plain": [
       "| 0       | 7.14286           | Not Viable                               |"
      ]
     },
     "metadata": {},
     "output_type": "display_data"
    },
    {
     "data": {
      "text/html": [
       "<pre>| 1       | 1.78571           | Not Viable                               |</pre>"
      ],
      "text/plain": [
       "| 1       | 1.78571           | Not Viable                               |"
      ]
     },
     "metadata": {},
     "output_type": "display_data"
    },
    {
     "data": {
      "text/html": [
       "<pre>| 2       | 0.446429          | Not Viable                               |</pre>"
      ],
      "text/plain": [
       "| 2       | 0.446429          | Not Viable                               |"
      ]
     },
     "metadata": {},
     "output_type": "display_data"
    },
    {
     "data": {
      "text/html": [
       "<pre>| 3       | 0.111607          | 0.480615                                 |</pre>"
      ],
      "text/plain": [
       "| 3       | 0.111607          | 0.480615                                 |"
      ]
     },
     "metadata": {},
     "output_type": "display_data"
    },
    {
     "data": {
      "text/html": [
       "<pre>| 4       | 0.0558036         | 0.645379                                 |</pre>"
      ],
      "text/plain": [
       "| 4       | 0.0558036         | 0.645379                                 |"
      ]
     },
     "metadata": {},
     "output_type": "display_data"
    },
    {
     "data": {
      "text/html": [
       "<pre>| 5       | 0.0279018         | 1.04089                                  |</pre>"
      ],
      "text/plain": [
       "| 5       | 0.0279018         | 1.04089                                  |"
      ]
     },
     "metadata": {},
     "output_type": "display_data"
    },
    {
     "data": {
      "text/html": [
       "<pre>+---------+-------------------+------------------------------------------+</pre>"
      ],
      "text/plain": [
       "+---------+-------------------+------------------------------------------+"
      ]
     },
     "metadata": {},
     "output_type": "display_data"
    },
    {
     "data": {
      "text/html": [
       "<pre>| Final   | 0.111607          | 0.480615                                 |</pre>"
      ],
      "text/plain": [
       "| Final   | 0.111607          | 0.480615                                 |"
      ]
     },
     "metadata": {},
     "output_type": "display_data"
    },
    {
     "data": {
      "text/html": [
       "<pre>+---------+-------------------+------------------------------------------+</pre>"
      ],
      "text/plain": [
       "+---------+-------------------+------------------------------------------+"
      ]
     },
     "metadata": {},
     "output_type": "display_data"
    },
    {
     "data": {
      "text/html": [
       "<pre>Starting Optimization.</pre>"
      ],
      "text/plain": [
       "Starting Optimization."
      ]
     },
     "metadata": {},
     "output_type": "display_data"
    },
    {
     "data": {
      "text/html": [
       "<pre>+---------+--------------+-------------------+-----------------------+-------------+</pre>"
      ],
      "text/plain": [
       "+---------+--------------+-------------------+-----------------------+-------------+"
      ]
     },
     "metadata": {},
     "output_type": "display_data"
    },
    {
     "data": {
      "text/html": [
       "<pre>| Iter.   | Elapsed Time | Approx. Objective | Approx. Training RMSE | Step Size   |</pre>"
      ],
      "text/plain": [
       "| Iter.   | Elapsed Time | Approx. Objective | Approx. Training RMSE | Step Size   |"
      ]
     },
     "metadata": {},
     "output_type": "display_data"
    },
    {
     "data": {
      "text/html": [
       "<pre>+---------+--------------+-------------------+-----------------------+-------------+</pre>"
      ],
      "text/plain": [
       "+---------+--------------+-------------------+-----------------------+-------------+"
      ]
     },
     "metadata": {},
     "output_type": "display_data"
    },
    {
     "data": {
      "text/html": [
       "<pre>| Initial | 201us        | 2.36373           | 1.06567               |             |</pre>"
      ],
      "text/plain": [
       "| Initial | 201us        | 2.36373           | 1.06567               |             |"
      ]
     },
     "metadata": {},
     "output_type": "display_data"
    },
    {
     "data": {
      "text/html": [
       "<pre>+---------+--------------+-------------------+-----------------------+-------------+</pre>"
      ],
      "text/plain": [
       "+---------+--------------+-------------------+-----------------------+-------------+"
      ]
     },
     "metadata": {},
     "output_type": "display_data"
    },
    {
     "data": {
      "text/html": [
       "<pre>| 1       | 1.318ms      | 3.97667           | 1.13997               | 0.111607    |</pre>"
      ],
      "text/plain": [
       "| 1       | 1.318ms      | 3.97667           | 1.13997               | 0.111607    |"
      ]
     },
     "metadata": {},
     "output_type": "display_data"
    },
    {
     "data": {
      "text/html": [
       "<pre>| 2       | 2.398ms      | 1.60615           | 1.0283                | 0.111607    |</pre>"
      ],
      "text/plain": [
       "| 2       | 2.398ms      | 1.60615           | 1.0283                | 0.111607    |"
      ]
     },
     "metadata": {},
     "output_type": "display_data"
    },
    {
     "data": {
      "text/html": [
       "<pre>| 3       | 3.924ms      | 0.799344          | 0.718836              | 0.111607    |</pre>"
      ],
      "text/plain": [
       "| 3       | 3.924ms      | 0.799344          | 0.718836              | 0.111607    |"
      ]
     },
     "metadata": {},
     "output_type": "display_data"
    },
    {
     "data": {
      "text/html": [
       "<pre>| 4       | 5.118ms      | 0.403955          | 0.386132              | 0.111607    |</pre>"
      ],
      "text/plain": [
       "| 4       | 5.118ms      | 0.403955          | 0.386132              | 0.111607    |"
      ]
     },
     "metadata": {},
     "output_type": "display_data"
    },
    {
     "data": {
      "text/html": [
       "<pre>| 5       | 6.225ms      | 0.201072          | 0.160011              | 0.111607    |</pre>"
      ],
      "text/plain": [
       "| 5       | 6.225ms      | 0.201072          | 0.160011              | 0.111607    |"
      ]
     },
     "metadata": {},
     "output_type": "display_data"
    },
    {
     "data": {
      "text/html": [
       "<pre>| 10      | 13.846ms     | 0.0929394         | 0.169998              | 0.111607    |</pre>"
      ],
      "text/plain": [
       "| 10      | 13.846ms     | 0.0929394         | 0.169998              | 0.111607    |"
      ]
     },
     "metadata": {},
     "output_type": "display_data"
    },
    {
     "data": {
      "text/html": [
       "<pre>| 25      | 30.882ms     | 0.0225174         | 0.107369              | 0.111607    |</pre>"
      ],
      "text/plain": [
       "| 25      | 30.882ms     | 0.0225174         | 0.107369              | 0.111607    |"
      ]
     },
     "metadata": {},
     "output_type": "display_data"
    },
    {
     "data": {
      "text/html": [
       "<pre>+---------+--------------+-------------------+-----------------------+-------------+</pre>"
      ],
      "text/plain": [
       "+---------+--------------+-------------------+-----------------------+-------------+"
      ]
     },
     "metadata": {},
     "output_type": "display_data"
    },
    {
     "data": {
      "text/html": [
       "<pre>Optimization Complete: Maximum number of passes through the data reached.</pre>"
      ],
      "text/plain": [
       "Optimization Complete: Maximum number of passes through the data reached."
      ]
     },
     "metadata": {},
     "output_type": "display_data"
    },
    {
     "data": {
      "text/html": [
       "<pre>Computing final objective value and training RMSE.</pre>"
      ],
      "text/plain": [
       "Computing final objective value and training RMSE."
      ]
     },
     "metadata": {},
     "output_type": "display_data"
    },
    {
     "data": {
      "text/html": [
       "<pre>       Final objective value: 0.0359765</pre>"
      ],
      "text/plain": [
       "       Final objective value: 0.0359765"
      ]
     },
     "metadata": {},
     "output_type": "display_data"
    },
    {
     "data": {
      "text/html": [
       "<pre>       Final training RMSE: 0.166807</pre>"
      ],
      "text/plain": [
       "       Final training RMSE: 0.166807"
      ]
     },
     "metadata": {},
     "output_type": "display_data"
    }
   ],
   "source": [
    "#Create model\n",
    "model = tc.recommender.ranking_factorization_recommender.create(training_data, 'userId', 'tourId',\n",
    "                                                                user_data=user_data,\n",
    "                                                                item_data=tour_data,\n",
    "                                                                target='rating')"
   ]
  },
  {
   "cell_type": "code",
   "execution_count": 8,
   "metadata": {},
   "outputs": [
    {
     "name": "stdout",
     "output_type": "stream",
     "text": [
      "+--------+--------+---------------------+------+\n",
      "| userId | tourId |        score        | rank |\n",
      "+--------+--------+---------------------+------+\n",
      "|   1    |   2    |  1.3811455553687906 |  1   |\n",
      "|   1    |   4    |  1.2757776626486006 |  2   |\n",
      "|   2    |   1    |  1.6829483048298042 |  1   |\n",
      "|   2    |   2    |  1.604869236253153  |  2   |\n",
      "|   2    |   4    | 0.44283097232276036 |  3   |\n",
      "|   3    |   4    |  1.4659470978022808 |  1   |\n",
      "|   3    |   3    |  1.3830893715364283 |  2   |\n",
      "|   4    |   3    |  1.4552188110989874 |  1   |\n",
      "|   4    |   1    |  0.6465770651231102 |  2   |\n",
      "|   4    |   4    |  0.5241770210505718 |  3   |\n",
      "|   5    |   3    |  1.6874135788168907 |  1   |\n",
      "|   5    |   4    |  1.6321558282658506 |  2   |\n",
      "|   5    |   1    |  1.527417584019278  |  3   |\n",
      "|   6    |   1    |  1.4050291318938686 |  1   |\n",
      "|   6    |   4    |  1.3080779391086952 |  2   |\n",
      "|   7    |   3    |  5.436029652176663  |  1   |\n",
      "|   7    |   1    |  5.2453893463514785 |  2   |\n",
      "|   7    |   2    |  2.264083740375422  |  3   |\n",
      "|   7    |   4    |  2.2514101872691317 |  4   |\n",
      "+--------+--------+---------------------+------+\n",
      "[19 rows x 4 columns]\n",
      "\n"
     ]
    }
   ],
   "source": [
    "# Print results\n",
    "results = model.recommend()\n",
    "results.print_rows(results.shape[0])\n",
    "# All the tours a given user has NOT been on are ranked according to which ones the user is most likely to favor"
   ]
  },
  {
   "cell_type": "markdown",
   "metadata": {},
   "source": [
    "### <i>(Analysis / validation of model pending.)</i>\n",
    "\n",
    "Model choice: Ranking Factorization Recommender\n",
    "Reasoning: Implicit data, lack of ratings, additional relevant user & tour data\n",
    "Info on TC Recommender models: https://turi.com/learn/userguide/recommender/choosing-a-model.html\n",
    "\n",
    "Validation strategy: Update mock data to create set of distinct user/tour pairs such that predictions for new users fitting each profile should be obvious."
   ]
  },
  {
   "cell_type": "code",
   "execution_count": null,
   "metadata": {},
   "outputs": [],
   "source": []
  }
 ],
 "metadata": {
  "kernelspec": {
   "display_name": "Python 3",
   "language": "python",
   "name": "python3"
  },
  "language_info": {
   "codemirror_mode": {
    "name": "ipython",
    "version": 3
   },
   "file_extension": ".py",
   "mimetype": "text/x-python",
   "name": "python",
   "nbconvert_exporter": "python",
   "pygments_lexer": "ipython3",
   "version": "3.7.4"
  }
 },
 "nbformat": 4,
 "nbformat_minor": 2
}
